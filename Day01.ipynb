{
  "cells": [
    {
      "cell_type": "markdown",
      "metadata": {
        "colab_type": "text",
        "id": "view-in-github"
      },
      "source": [
        "<a href=\"https://colab.research.google.com/github/Jiyeon1104/ai/blob/main/Day01.ipynb\" target=\"_parent\"><img src=\"https://colab.research.google.com/assets/colab-badge.svg\" alt=\"Open In Colab\"/></a>"
      ]
    },
    {
      "cell_type": "code",
      "execution_count": null,
      "metadata": {
        "colab": {
          "base_uri": "https://localhost:8080/"
        },
        "id": "4tPjaMVCxHQJ",
        "outputId": "b5bb349c-8411-4b43-c0c5-809b6cfc5603"
      },
      "outputs": [
        {
          "name": "stdout",
          "output_type": "stream",
          "text": [
            "Hello World\n"
          ]
        }
      ],
      "source": [
        "###########\n",
        "#주석 comment\n",
        "###########\n",
        "\n",
        "\n",
        "''' \n",
        "작성자 : 홍길동\n",
        "작성일 : 2022-01-25\n",
        "버전 : 0.1\n",
        "'''\n",
        "\n",
        "# 보통 삼중 따옴표 주석은 여러줄을 주석으로 사용할 때 사용한다.\n",
        "\n",
        "# 주석 붙이는 위치\n",
        "print('Hello World') # 행의 우측 또는 위에 주석을 붙임"
      ]
    },
    {
      "cell_type": "code",
      "execution_count": null,
      "metadata": {
        "colab": {
          "base_uri": "https://localhost:8080/"
        },
        "id": "zujBnXDW4p7L",
        "outputId": "9acca61c-32bd-45ab-e13f-f662e8b889f9"
      },
      "outputs": [
        {
          "name": "stdout",
          "output_type": "stream",
          "text": [
            "200\n",
            "300\n"
          ]
        }
      ],
      "source": [
        "###########\n",
        "#변수 Variable\n",
        "###########\n",
        "\n",
        "score = 200\n",
        "\n",
        "print(score)\n",
        "\n",
        "score = 300\n",
        "\n",
        "print(score)\n"
      ]
    },
    {
      "cell_type": "code",
      "execution_count": null,
      "metadata": {
        "colab": {
          "base_uri": "https://localhost:8080/"
        },
        "id": "6zWklN3_C9yD",
        "outputId": "e382cfa5-9234-48ee-dbb9-a8969cf48b37"
      },
      "outputs": [
        {
          "name": "stdout",
          "output_type": "stream",
          "text": [
            "Alice\n",
            "25\n",
            "우편번호 12345\n",
            "서울시 영등포구 여의도동\n",
            "서울빌딩 501호\n",
            "None\n",
            "168.5\n"
          ]
        }
      ],
      "source": [
        "name = 'Alice'\n",
        "age = 26\n",
        "address = '''우편번호 1234\n",
        "경기도 성남시 수정구 \n",
        "제일로110번길'''\n",
        "friend = True\n",
        "height = 173.8\n",
        "\n",
        "print(name)\n",
        "print(age)\n",
        "print(address)\n",
        "print(boyfriend)\n",
        "print(height)"
      ]
    },
    {
      "cell_type": "code",
      "execution_count": 14,
      "metadata": {
        "colab": {
          "base_uri": "https://localhost:8080/"
        },
        "id": "ublMRwRxE9Dk",
        "outputId": "8cd3a9f0-48bd-468a-8dbb-8f76069bc414"
      },
      "outputs": [
        {
          "name": "stdout",
          "output_type": "stream",
          "text": [
            "1\n",
            "1\n",
            "0\n"
          ]
        }
      ],
      "source": [
        "##############\n",
        "#기본자료형 type\n",
        "##############\n",
        "\n",
        "a = int(1.9)\n",
        "print(a)\n",
        "\n",
        "b = int(True)\n",
        "print(b)\n",
        "\n",
        "c = int(False)\n",
        "print(c)"
      ]
    },
    {
      "cell_type": "code",
      "execution_count": 17,
      "metadata": {
        "colab": {
          "base_uri": "https://localhost:8080/"
        },
        "id": "Bn0aKMKAFTNX",
        "outputId": "3424e696-5934-4598-93ec-7181679f5544"
      },
      "outputs": [
        {
          "name": "stdout",
          "output_type": "stream",
          "text": [
            "<class 'int'>\n",
            "<class 'str'>\n",
            "100\n",
            "100\n",
            "False\n",
            "<class 'int'>\n",
            "True\n"
          ]
        }
      ],
      "source": [
        "a = 100\n",
        "b = '100'\n",
        "\n",
        "print(type(a))\n",
        "print(type(b))\n",
        "\n",
        "print(a)\n",
        "print(b)\n",
        "print(a==b) # 육안에서 보이는 값은 같지만 타입 자체가 다르기 때문에 컴퓨터는 비교 연산 시 두 값을 다르게 처리함\\\n",
        "\n",
        "c = int(b)\n",
        "print(type(c))\n",
        "print(a==c)"
      ]
    },
    {
      "cell_type": "code",
      "execution_count": 22,
      "metadata": {
        "colab": {
          "base_uri": "https://localhost:8080/"
        },
        "id": "VXmLivEHGG0y",
        "outputId": "34618cd7-7447-4f50-e5af-8123d112eea5"
      },
      "outputs": [
        {
          "name": "stdout",
          "output_type": "stream",
          "text": [
            "1.0\n",
            "1.0\n",
            "3.14\n",
            "100.0\n"
          ]
        }
      ],
      "source": [
        "#실수 float\n",
        "\n",
        "a = float(1)\n",
        "print(a)\n",
        "\n",
        "b = float(True)\n",
        "print(b)\n",
        "\n",
        "c = float('3.14')\n",
        "print(c)\n",
        "\n",
        "d = float(100)\n",
        "print(d)"
      ]
    },
    {
      "cell_type": "code",
      "execution_count": 26,
      "metadata": {
        "colab": {
          "base_uri": "https://localhost:8080/"
        },
        "id": "m9itDkhcapfM",
        "outputId": "38a6c3b3-6af5-4ddb-f579-39f428682a57"
      },
      "outputs": [
        {
          "name": "stdout",
          "output_type": "stream",
          "text": [
            "False\n",
            "False\n",
            "False\n",
            "True\n"
          ]
        }
      ],
      "source": [
        "# bool 논리 True or False\n",
        "\n",
        "a = bool(0)\n",
        "print(a)\n",
        "\n",
        "b = bool()\n",
        "print(b)\n",
        "\n",
        "c = bool([])\n",
        "print(c)\n",
        "\n",
        "d = bool([1])\n",
        "print(d)"
      ]
    },
    {
      "cell_type": "code",
      "execution_count": 30,
      "metadata": {
        "colab": {
          "base_uri": "https://localhost:8080/"
        },
        "id": "gq2zNP5NboNS",
        "outputId": "c921ca8a-680f-4d09-b632-9beaf2e4121c"
      },
      "outputs": [
        {
          "name": "stdout",
          "output_type": "stream",
          "text": [
            "100\n",
            "<class 'str'>\n",
            "True\n",
            "<class 'str'>\n"
          ]
        }
      ],
      "source": [
        "##############\n",
        "#문자열 String\n",
        "##############\n",
        "\n",
        "a = '대한민국'\n",
        "a = \"대한민국\"\n",
        "\n",
        "b = str(100)\n",
        "print(b)\n",
        "print(type(b))\n",
        "\n",
        "c = str(True)\n",
        "print(c)\n",
        "print(type(c))"
      ]
    },
    {
      "cell_type": "code",
      "execution_count": 37,
      "metadata": {
        "colab": {
          "base_uri": "https://localhost:8080/"
        },
        "id": "V9vmvpL-cSaL",
        "outputId": "d98b8d3d-3ccb-479a-fb9e-5ce61930515f"
      },
      "outputs": [
        {
          "name": "stdout",
          "output_type": "stream",
          "text": [
            "l\n",
            "o\n",
            "H\n",
            "True\n",
            "1\n",
            "99\n"
          ]
        }
      ],
      "source": [
        "# 문자열 인덱싱\n",
        "\n",
        "# hello 파이썬은 0에서 시작함\n",
        "\n",
        "s = 'Hello'\n",
        "s[3]\n",
        "print(s[3])\n",
        "\n",
        "print(s[-1])\n",
        "print(s[-5])\n",
        "print(s[-5] == s[0])"
      ]
    },
    {
      "cell_type": "code",
      "execution_count": 38,
      "metadata": {
        "colab": {
          "base_uri": "https://localhost:8080/"
        },
        "id": "pb1Q1e4rgTVk",
        "outputId": "8840431a-0322-42d1-affc-0db14f2c3ab2"
      },
      "outputs": [
        {
          "name": "stdout",
          "output_type": "stream",
          "text": [
            "1\n",
            "99\n",
            "99\n",
            "901-0\n"
          ]
        }
      ],
      "source": [
        "ss = \"990211-1005432\"\n",
        "print(ss[7])\n",
        "print(ss[0:2]) # 0번째부터 2번째 미만까지.. [start:stop:step]\n",
        "print(ss[0:2]) # step은 생략 가능\n",
        "print(ss[0:10:2]) # 2개씩 건너 뜀"
      ]
    },
    {
      "cell_type": "code",
      "execution_count": 40,
      "metadata": {
        "colab": {
          "base_uri": "https://localhost:8080/"
        },
        "id": "-Ukln-q6gqEH",
        "outputId": "fce34d6c-a2d9-494f-d449-cf72965c963d"
      },
      "outputs": [
        {
          "name": "stdout",
          "output_type": "stream",
          "text": [
            "Hello 'World'\n"
          ]
        }
      ],
      "source": [
        "# print\n",
        "\n",
        "print(\"Hello 'World'\")"
      ]
    },
    {
      "cell_type": "code",
      "execution_count": 45,
      "metadata": {
        "colab": {
          "base_uri": "https://localhost:8080/"
        },
        "id": "ARpZxz9AhlNc",
        "outputId": "a1d90f37-a89b-435e-bbcf-ffd76a983a7b"
      },
      "outputs": [
        {
          "name": "stdout",
          "output_type": "stream",
          "text": [
            "Hello 'World'\n",
            "Hello \"World\"\n",
            "Hello \"World\"\n"
          ]
        }
      ],
      "source": [
        "print('Hello \\'World\\'')\n",
        "print('Hello \\\"World\\\"')\n",
        "print('Hello \"World\"')"
      ]
    },
    {
      "cell_type": "code",
      "execution_count": 47,
      "metadata": {
        "colab": {
          "base_uri": "https://localhost:8080/"
        },
        "id": "OTRhTLmPiR4s",
        "outputId": "50e01098-c6ec-47c2-9f84-19968b834735"
      },
      "outputs": [
        {
          "name": "stdout",
          "output_type": "stream",
          "text": [
            "Hello \n",
            "\"World\"\n"
          ]
        }
      ],
      "source": [
        "print('Hello \\n\"World\"')"
      ]
    },
    {
      "cell_type": "code",
      "execution_count": 49,
      "metadata": {
        "colab": {
          "base_uri": "https://localhost:8080/"
        },
        "id": "qU18VZX9ivJH",
        "outputId": "9d3a8833-5e3c-4cfb-bd4b-6fd4c5f8b397"
      },
      "outputs": [
        {
          "name": "stdout",
          "output_type": "stream",
          "text": [
            "이름 \n",
            "전화\n"
          ]
        }
      ],
      "source": [
        "print('이름 \\n전화')"
      ]
    },
    {
      "cell_type": "code",
      "execution_count": 51,
      "metadata": {
        "colab": {
          "base_uri": "https://localhost:8080/"
        },
        "id": "Lo0_hKn3jCkU",
        "outputId": "f1f6afdb-1816-4aad-cc3f-ded71c229ca9"
      },
      "outputs": [
        {
          "name": "stdout",
          "output_type": "stream",
          "text": [
            "이름 \t연락처\n",
            "홍길동 \t010-2020-2903\n"
          ]
        }
      ],
      "source": [
        "print('이름 \\t연락처')\n",
        "print('홍길동 \\t010-2020-2903')"
      ]
    },
    {
      "cell_type": "code",
      "execution_count": 52,
      "metadata": {
        "colab": {
          "base_uri": "https://localhost:8080/"
        },
        "id": "30Tw7ewUjuF2",
        "outputId": "9c70ca16-4f23-43f7-8cd5-abe6d90abc25"
      },
      "outputs": [
        {
          "name": "stdout",
          "output_type": "stream",
          "text": [
            "재미있는 파이썬\n"
          ]
        }
      ],
      "source": [
        "print('재미있는', '파이썬')"
      ]
    },
    {
      "cell_type": "code",
      "execution_count": 55,
      "metadata": {
        "colab": {
          "base_uri": "https://localhost:8080/"
        },
        "id": "18O6xlujkAJW",
        "outputId": "33fba99f-2b44-4d7e-c283-81816ce1a169"
      },
      "outputs": [
        {
          "name": "stdout",
          "output_type": "stream",
          "text": [
            "평점:5점\n"
          ]
        }
      ],
      "source": [
        "print('평점', end = ':')\n",
        "print('5점')"
      ]
    },
    {
      "cell_type": "code",
      "execution_count": 63,
      "metadata": {
        "colab": {
          "base_uri": "https://localhost:8080/"
        },
        "id": "l7Hn59pno-H4",
        "outputId": "361cf519-5391-40a5-bac2-050ba01ae06d"
      },
      "outputs": [
        {
          "name": "stdout",
          "output_type": "stream",
          "text": [
            "국어 영어 수학\n",
            "국어/영어/수학\n",
            "국어,영어,수학\n",
            "국어\n",
            "영어\n",
            "수학\n",
            "국어\n",
            "영어\n",
            "수학\n"
          ]
        }
      ],
      "source": [
        "print('국어', '영어', '수학')\n",
        "print('국어', '영어', '수학', sep = '/')\n",
        "print('국어', '영어', '수학', sep = ',')\n",
        "print('국어', '영어', '수학', sep = '\\n')\n",
        "print('국어\\n영어\\n수학')"
      ]
    },
    {
      "cell_type": "code",
      "execution_count": 75,
      "metadata": {
        "colab": {
          "base_uri": "https://localhost:8080/"
        },
        "id": "aybhheIzqjTa",
        "outputId": "795c8979-4b33-483a-b68c-bf07a1993fc0"
      },
      "outputs": [
        {
          "name": "stdout",
          "output_type": "stream",
          "text": [
            "10\n",
            "10을 입력하세요\n",
            "원주율은 3.140000입니다.\n",
            "원주율은 3.14입니다.\n",
            "저는 학생입니다.\n",
            "저는 대학생입니다.\n",
            "저는 대학생 입니다.\n"
          ]
        }
      ],
      "source": [
        "# %연산자\n",
        "\n",
        "print(10)\n",
        "print('%d을 입력하세요' % 10) # %d decimal 정수\n",
        "print('원주율은 %f입니다.' % 3.14) # %f float 실수\n",
        "print('원주율은 %s입니다.' % 3.14)\n",
        "print('저는 %s입니다.' % '학생') # %s string 문자열\n",
        "\n",
        "std = \"대학생\"\n",
        "print('저는 %s입니다.' % std)\n",
        "print('저는', std, '입니다.')"
      ]
    },
    {
      "cell_type": "code",
      "execution_count": 87,
      "metadata": {
        "colab": {
          "base_uri": "https://localhost:8080/"
        },
        "id": "5zeQ4Dv9tku4",
        "outputId": "712b3417-319c-44b9-89b4-96796319e5f8"
      },
      "outputs": [
        {
          "name": "stdout",
          "output_type": "stream",
          "text": [
            "1\n",
            "    1\n",
            "1    \n",
            "   11\n",
            "11   \n"
          ]
        }
      ],
      "source": [
        "print(\"%d\" % 1)\n",
        "print(\"%5d\" % 1)\n",
        "print(\"%-5d\" % 1)\n",
        "print(\"%5d\" % 11)\n",
        "print(\"%-5d\" % 11)"
      ]
    },
    {
      "cell_type": "code",
      "execution_count": 93,
      "metadata": {
        "colab": {
          "base_uri": "https://localhost:8080/"
        },
        "id": "j7mOtOCKuUGK",
        "outputId": "5c628b61-90bd-4ff8-950a-858292306015"
      },
      "outputs": [
        {
          "name": "stdout",
          "output_type": "stream",
          "text": [
            "원주율은 3.140000입니다.\n",
            "원주율은   3.1입니다.\n",
            "원주율은 3.1  입니다.\n",
            "원주율은 3.14입니다.\n"
          ]
        }
      ],
      "source": [
        "print('원주율은 %f입니다.' % 3.14) # %f float 실수\n",
        "print('원주율은 %5.1f입니다.' % 3.14) # %f float 실수\n",
        "print('원주율은 %-5.1f입니다.' % 3.14) # %f float 실수\n",
        "print('원주율은 %.2f입니다.' % 3.14) # %f float 실수"
      ]
    },
    {
      "cell_type": "code",
      "execution_count": 94,
      "metadata": {
        "colab": {
          "base_uri": "https://localhost:8080/"
        },
        "id": "Cf5jx4zFvgyB",
        "outputId": "33aaecf9-496b-4950-89e3-e4b50b37e65d"
      },
      "outputs": [
        {
          "name": "stdout",
          "output_type": "stream",
          "text": [
            "내 이름은 kai입니다.\n"
          ]
        }
      ],
      "source": [
        "name = 'kai'\n",
        "print('내 이름은 %s입니다.' %name)"
      ]
    },
    {
      "cell_type": "code",
      "execution_count": 102,
      "metadata": {
        "colab": {
          "base_uri": "https://localhost:8080/"
        },
        "id": "zLAQbppovwaw",
        "outputId": "7b5ae366-4b59-4170-dbcf-ea0cfdb5797f"
      },
      "outputs": [
        {
          "name": "stdout",
          "output_type": "stream",
          "text": [
            "내 키는 185.5입니다.\n",
            "내 키는 185.5입니다.\n",
            "내 키는 185.5이고 이름은 kai입니다.\n"
          ]
        }
      ],
      "source": [
        "height = 185.5\n",
        "print('내 키는 %.1f입니다.' %height)\n",
        "print('내 키는 %s입니다.' %height)\n",
        "print('내 키는 {}이고 이름은 {}입니다.'.format(height,name))"
      ]
    },
    {
      "cell_type": "code",
      "execution_count": 99,
      "metadata": {
        "colab": {
          "base_uri": "https://localhost:8080/"
        },
        "id": "ObRGkBXRwMaC",
        "outputId": "aabd12af-9cfd-4d16-9740-8408fe2e9afa"
      },
      "outputs": [
        {
          "name": "stdout",
          "output_type": "stream",
          "text": [
            "우편번호 : 06236\n",
            "우편번호 : 06236\n"
          ]
        }
      ],
      "source": [
        "# format()\n",
        "\n",
        "zipcode = '06236'\n",
        "print('우편번호 : %s' %zipcode)\n",
        "print('우편번호 : {}'.format(zipcode))"
      ]
    },
    {
      "cell_type": "code",
      "execution_count": 106,
      "metadata": {
        "colab": {
          "base_uri": "https://localhost:8080/"
        },
        "id": "tGTqApjx2Ufr",
        "outputId": "5bc397d6-2d53-4c7e-d489-f21e61588dbf"
      },
      "outputs": [
        {
          "name": "stdout",
          "output_type": "stream",
          "text": [
            "My name is 김지연.I 'm 24 years old.\n",
            "My name is 김지연.I 'm 24 years old.\n",
            "My name is 김지연.I 'm 24 years old.\n"
          ]
        }
      ],
      "source": [
        "print('My name is {}.I \\'m {} years old.'.format('김지연', 24))\n",
        "print('My name is {1}.I \\'m {0} years old.'.format(24, '김지연')) # ? 번째를 지정 가능하다\n",
        "print('My name is {name}.I \\'m {age} years old.'.format(age = 24, name = '김지연'))"
      ]
    },
    {
      "cell_type": "code",
      "execution_count": 107,
      "metadata": {
        "colab": {
          "base_uri": "https://localhost:8080/"
        },
        "id": "KtT9FYrm3JhD",
        "outputId": "af91c9f6-ec7c-4c17-f2c6-0e91740f7ef4"
      },
      "outputs": [
        {
          "name": "stdout",
          "output_type": "stream",
          "text": [
            "you make me happy\n"
          ]
        }
      ],
      "source": [
        "# f-strings\n",
        "# 파이썬 3.6 이후부터 사용 가능\n",
        "\n",
        "who = 'you'\n",
        "how = 'happy'\n",
        "print(f'{who} make me {how}') # 가독성이 좋음 + 가장 자주 씀"
      ]
    },
    {
      "cell_type": "code",
      "execution_count": 108,
      "metadata": {
        "colab": {
          "base_uri": "https://localhost:8080/"
        },
        "id": "-AGc-ITq4AEd",
        "outputId": "c0d654d2-eacc-482a-df36-64bc0c7aad5f"
      },
      "outputs": [
        {
          "name": "stdout",
          "output_type": "stream",
          "text": [
            "내년에는 26 입니다.\n"
          ]
        }
      ],
      "source": [
        "age = 25\n",
        "print(f'내년에는 {age + 1} 입니다.')"
      ]
    },
    {
      "cell_type": "code",
      "execution_count": 114,
      "metadata": {
        "colab": {
          "base_uri": "https://localhost:8080/"
        },
        "id": "-xlhYIP44rOU",
        "outputId": "1216fd27-c363-4882-f3dd-b801d6172b17"
      },
      "outputs": [
        {
          "name": "stdout",
          "output_type": "stream",
          "text": [
            "당신의 나이를 입력하세요.24\n",
            "당신의 나이는 24입니다.\n",
            "당신의 나이는 24 입니다.\n"
          ]
        }
      ],
      "source": [
        "##############\n",
        "#입력() input\n",
        "##############\n",
        "\n",
        "n = input('당신의 나이를 입력하세요.')\n",
        "print(f'당신의 나이는 {n}입니다.')\n",
        "print('당신의 나이는' , n, '입니다.')"
      ]
    },
    {
      "cell_type": "code",
      "execution_count": 128,
      "metadata": {
        "colab": {
          "base_uri": "https://localhost:8080/"
        },
        "id": "dedPoSpr6Cpr",
        "outputId": "f5856755-8811-4234-8e6d-e6b4d211c1bd"
      },
      "outputs": [
        {
          "name": "stdout",
          "output_type": "stream",
          "text": [
            "이름을 입력하세요.김지연\n",
            "나이를 입력하세요.4\n",
            "당신의 이름은 김지연이고, 나이는 4입니다.\n",
            "당신의 이름은 김지연이고, 나이는 4입니다.\n",
            "당신의 이름은 김지연 이고, 나이는 4 입니다.\n",
            "당신의 이름은 김지연이고,나이는 4입니다.\n",
            "당신의 이름은 김지연이고, 나이는 4입니다.\n",
            "<class 'str'>\n",
            "<class 'int'>\n"
          ]
        }
      ],
      "source": [
        "name = input('이름을 입력하세요.')\n",
        "age = int(input('나이를 입력하세요.'))2\n",
        "\n",
        "# f-string\n",
        "print(f'당신의 이름은 {name}이고, 나이는 {age}입니다.')\n",
        "\n",
        "# format()\n",
        "print('당신의 이름은 {}이고, 나이는 {}입니다.'.format(name, age))\n",
        "\n",
        "# 기본\n",
        "print('당신의 이름은',name, '이고, 나이는', age, '입니다.')\n",
        "#기본으로 쓰면 띄어쓰기가 불가피하게 일어남\n",
        "\n",
        "# %연산자\n",
        "print('당신의 이름은 %s이고' %name, end = ',')\n",
        "print('나이는 %s입니다.' %age)\n",
        "print('당신의 이름은 %s이고, 나이는 %d입니다.' %(name, age))\n",
        "\n",
        "print(type(name))\n",
        "print(type(age))"
      ]
    },
    {
      "cell_type": "code",
      "execution_count": 147,
      "metadata": {
        "colab": {
          "base_uri": "https://localhost:8080/"
        },
        "id": "JPVBEuCc-ah1",
        "outputId": "312f1561-ba60-4b5a-80f0-2396aaf4ccf2"
      },
      "outputs": [
        {
          "name": "stdout",
          "output_type": "stream",
          "text": [
            "할부 개월 입력 : 3\n",
            "3개월 동안 매달 내는 금액은 16666.67입니다.\n",
            "3개월 동안 매달 내는 금액은 16666.670000입니다.\n",
            "3개월 동안 매달 내는 금액은 16666.67입니다.\n",
            "3 개월동안 매달 내는 금액은 16666.67 입니다.\n"
          ]
        }
      ],
      "source": [
        "month = int(input('할부 개월 입력 : '))\n",
        "money = round(50000 / month,2)\n",
        "\n",
        "print(f'{month}개월 동안 매달 내는 금액은 {money}입니다.')\n",
        "print('%d개월 동안 매달 내는 금액은 %f입니다.' % (month, money))\n",
        "print('{}개월 동안 매달 내는 금액은 {}입니다.'.format(month, money))\n",
        "print(month, '개월동안 매달 내는 금액은', money, '입니다.')"
      ]
    },
    {
      "cell_type": "code",
      "execution_count": 149,
      "metadata": {
        "colab": {
          "base_uri": "https://localhost:8080/"
        },
        "id": "dsCwkmw7FiGX",
        "outputId": "4738c4a0-db29-4e9b-fdbf-ac69f33562e9"
      },
      "outputs": [
        {
          "name": "stdout",
          "output_type": "stream",
          "text": [
            "실수1 : 3.14\n",
            "실수2 : 5.05\n",
            "3.14과 5.05의 합계는 8.19입니다.\n"
          ]
        }
      ],
      "source": [
        "num1 = float(input('실수1 : '))\n",
        "num2 = float(input('실수2 : '))\n",
        "sum = num1 + num2\n",
        "\n",
        "print(f'{num1}과 {num2}의 합계는 {sum}입니다.')\n"
      ]
    }
  ],
  "metadata": {
    "colab": {
      "authorship_tag": "ABX9TyM9F5/XBe9s+zhwzp89OBqv",
      "include_colab_link": true,
      "name": "Untitled0.ipynb",
      "provenance": []
    },
    "kernelspec": {
      "display_name": "Python 3",
      "name": "python3"
    },
    "language_info": {
      "name": "python"
    }
  },
  "nbformat": 4,
  "nbformat_minor": 0
}
